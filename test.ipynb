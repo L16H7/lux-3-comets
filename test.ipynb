{
 "cells": [
  {
   "cell_type": "code",
   "execution_count": 2,
   "metadata": {},
   "outputs": [
    {
     "ename": "TypeError",
     "evalue": "eq got incompatible shapes for broadcasting: (2, 16, 121, 1, 2), (2, 1, 16, 1, 2).",
     "output_type": "error",
     "traceback": [
      "\u001b[0;31m---------------------------------------------------------------------------\u001b[0m",
      "\u001b[0;31mTypeError\u001b[0m                                 Traceback (most recent call last)",
      "Cell \u001b[0;32mIn[2], line 26\u001b[0m\n\u001b[1;32m     22\u001b[0m opponent_positions_expanded \u001b[38;5;241m=\u001b[39m opponent_positions[:, \u001b[38;5;28;01mNone\u001b[39;00m, :, \u001b[38;5;28;01mNone\u001b[39;00m, :]\n\u001b[1;32m     23\u001b[0m \u001b[38;5;66;03m# Shape becomes (2, 1, 16, 16, 2) to compare with attack positions\u001b[39;00m\n\u001b[1;32m     24\u001b[0m \n\u001b[1;32m     25\u001b[0m \u001b[38;5;66;03m# Calculate if any attack position matches any opponent position\u001b[39;00m\n\u001b[0;32m---> 26\u001b[0m hits \u001b[38;5;241m=\u001b[39m jnp\u001b[38;5;241m.\u001b[39mall(\u001b[43mattack_positions\u001b[49m\u001b[43m[\u001b[49m\u001b[38;5;241;43m.\u001b[39;49m\u001b[38;5;241;43m.\u001b[39;49m\u001b[38;5;241;43m.\u001b[39;49m\u001b[43m,\u001b[49m\u001b[43m \u001b[49m\u001b[38;5;28;43;01mNone\u001b[39;49;00m\u001b[43m,\u001b[49m\u001b[43m \u001b[49m\u001b[43m:\u001b[49m\u001b[43m]\u001b[49m\u001b[43m \u001b[49m\u001b[38;5;241;43m==\u001b[39;49m\u001b[43m \u001b[49m\u001b[43mopponent_positions_expanded\u001b[49m, axis\u001b[38;5;241m=\u001b[39m\u001b[38;5;241m-\u001b[39m\u001b[38;5;241m1\u001b[39m)\n\u001b[1;32m     27\u001b[0m \u001b[38;5;66;03m# hits shape: (2, 16, (2*k+1)^2, 16), where the last dimension checks across all opponent positions\u001b[39;00m\n\u001b[1;32m     28\u001b[0m \n\u001b[1;32m     29\u001b[0m \u001b[38;5;66;03m# Aggregate hits to form a mask where True indicates a valid attack target\u001b[39;00m\n\u001b[1;32m     30\u001b[0m valid_targets \u001b[38;5;241m=\u001b[39m jnp\u001b[38;5;241m.\u001b[39many(hits, axis\u001b[38;5;241m=\u001b[39m\u001b[38;5;241m-\u001b[39m\u001b[38;5;241m1\u001b[39m)\n",
      "File \u001b[0;32m~/research/neurips/.conda/lib/python3.10/site-packages/jax/_src/numpy/array_methods.py:573\u001b[0m, in \u001b[0;36m_defer_to_unrecognized_arg.<locals>.deferring_binary_op\u001b[0;34m(self, other)\u001b[0m\n\u001b[1;32m    571\u001b[0m args \u001b[38;5;241m=\u001b[39m (other, \u001b[38;5;28mself\u001b[39m) \u001b[38;5;28;01mif\u001b[39;00m swap \u001b[38;5;28;01melse\u001b[39;00m (\u001b[38;5;28mself\u001b[39m, other)\n\u001b[1;32m    572\u001b[0m \u001b[38;5;28;01mif\u001b[39;00m \u001b[38;5;28misinstance\u001b[39m(other, _accepted_binop_types):\n\u001b[0;32m--> 573\u001b[0m   \u001b[38;5;28;01mreturn\u001b[39;00m \u001b[43mbinary_op\u001b[49m\u001b[43m(\u001b[49m\u001b[38;5;241;43m*\u001b[39;49m\u001b[43margs\u001b[49m\u001b[43m)\u001b[49m\n\u001b[1;32m    574\u001b[0m \u001b[38;5;66;03m# Note: don't use isinstance here, because we don't want to raise for\u001b[39;00m\n\u001b[1;32m    575\u001b[0m \u001b[38;5;66;03m# subclasses, e.g. NamedTuple objects that may override operators.\u001b[39;00m\n\u001b[1;32m    576\u001b[0m \u001b[38;5;28;01mif\u001b[39;00m \u001b[38;5;28mtype\u001b[39m(other) \u001b[38;5;129;01min\u001b[39;00m _rejected_binop_types:\n",
      "    \u001b[0;31m[... skipping hidden 11 frame]\u001b[0m\n",
      "File \u001b[0;32m~/research/neurips/.conda/lib/python3.10/site-packages/jax/_src/numpy/ufuncs.py:1245\u001b[0m, in \u001b[0;36mequal\u001b[0;34m(x, y)\u001b[0m\n\u001b[1;32m   1242\u001b[0m \u001b[38;5;129m@implements\u001b[39m(np\u001b[38;5;241m.\u001b[39mequal, module\u001b[38;5;241m=\u001b[39m\u001b[38;5;124m'\u001b[39m\u001b[38;5;124mnumpy\u001b[39m\u001b[38;5;124m'\u001b[39m)\n\u001b[1;32m   1243\u001b[0m \u001b[38;5;129m@partial\u001b[39m(jit, inline\u001b[38;5;241m=\u001b[39m\u001b[38;5;28;01mTrue\u001b[39;00m)\n\u001b[1;32m   1244\u001b[0m \u001b[38;5;28;01mdef\u001b[39;00m \u001b[38;5;21mequal\u001b[39m(x: ArrayLike, y: ArrayLike, \u001b[38;5;241m/\u001b[39m) \u001b[38;5;241m-\u001b[39m\u001b[38;5;241m>\u001b[39m Array:\n\u001b[0;32m-> 1245\u001b[0m   \u001b[38;5;28;01mreturn\u001b[39;00m \u001b[43mlax\u001b[49m\u001b[38;5;241;43m.\u001b[39;49m\u001b[43meq\u001b[49m\u001b[43m(\u001b[49m\u001b[38;5;241;43m*\u001b[39;49m\u001b[43mpromote_args\u001b[49m\u001b[43m(\u001b[49m\u001b[38;5;124;43m\"\u001b[39;49m\u001b[38;5;124;43mequal\u001b[39;49m\u001b[38;5;124;43m\"\u001b[39;49m\u001b[43m,\u001b[49m\u001b[43m \u001b[49m\u001b[43mx\u001b[49m\u001b[43m,\u001b[49m\u001b[43m \u001b[49m\u001b[43my\u001b[49m\u001b[43m)\u001b[49m\u001b[43m)\u001b[49m\n",
      "    \u001b[0;31m[... skipping hidden 7 frame]\u001b[0m\n",
      "File \u001b[0;32m~/research/neurips/.conda/lib/python3.10/site-packages/jax/_src/lax/lax.py:1966\u001b[0m, in \u001b[0;36mbroadcasting_shape_rule\u001b[0;34m(name, *avals)\u001b[0m\n\u001b[1;32m   1964\u001b[0m       result_shape\u001b[38;5;241m.\u001b[39mappend(non_1s[\u001b[38;5;241m0\u001b[39m])\n\u001b[1;32m   1965\u001b[0m     \u001b[38;5;28;01melse\u001b[39;00m:\n\u001b[0;32m-> 1966\u001b[0m       \u001b[38;5;28;01mraise\u001b[39;00m \u001b[38;5;167;01mTypeError\u001b[39;00m(\u001b[38;5;124mf\u001b[39m\u001b[38;5;124m'\u001b[39m\u001b[38;5;132;01m{\u001b[39;00mname\u001b[38;5;132;01m}\u001b[39;00m\u001b[38;5;124m got incompatible shapes for broadcasting: \u001b[39m\u001b[38;5;124m'\u001b[39m\n\u001b[1;32m   1967\u001b[0m                       \u001b[38;5;124mf\u001b[39m\u001b[38;5;124m'\u001b[39m\u001b[38;5;132;01m{\u001b[39;00m\u001b[38;5;124m\"\u001b[39m\u001b[38;5;124m, \u001b[39m\u001b[38;5;124m\"\u001b[39m\u001b[38;5;241m.\u001b[39mjoin(\u001b[38;5;28mmap\u001b[39m(\u001b[38;5;28mstr\u001b[39m,\u001b[38;5;250m \u001b[39m\u001b[38;5;28mmap\u001b[39m(\u001b[38;5;28mtuple\u001b[39m,\u001b[38;5;250m \u001b[39mshapes)))\u001b[38;5;132;01m}\u001b[39;00m\u001b[38;5;124m.\u001b[39m\u001b[38;5;124m'\u001b[39m)\n\u001b[1;32m   1969\u001b[0m \u001b[38;5;28;01mreturn\u001b[39;00m \u001b[38;5;28mtuple\u001b[39m(result_shape)\n",
      "\u001b[0;31mTypeError\u001b[0m: eq got incompatible shapes for broadcasting: (2, 16, 121, 1, 2), (2, 1, 16, 1, 2)."
     ]
    }
   ],
   "source": [
    "import numpy as np\n",
    "import jax.numpy as jnp\n",
    "\n",
    "# Define the number of units per team and the range of target coordinates\n",
    "num_units = 16\n",
    "k = 5  # Define the range of target_x and target_y\n",
    "\n",
    "# Create grid of target coordinates within the specified range\n",
    "target_coords = jnp.mgrid[-k:k+1, -k:k+1].reshape(2, -1).T\n",
    "\n",
    "# Assuming team_positions and opponent_positions are already defined:\n",
    "# team_positions, opponent_positions shapes are both (2, 16, 2)\n",
    "# Example initialization (random positions within a 24x24 grid):\n",
    "team_positions = jnp.array(np.random.randint(0, 24, (2, num_units, 2)))\n",
    "opponent_positions = jnp.array(np.random.randint(0, 24, (2, num_units, 2)))\n",
    "\n",
    "# Calculate all possible attack positions for each team's units\n",
    "attack_positions = team_positions[:, :, None, :] + target_coords[None, None, :, :]\n",
    "# Shape of attack_positions: (2, 16, (2*k+1)^2, 2)\n",
    "\n",
    "# Expand opponent positions for broadcasting comparison\n",
    "opponent_positions_expanded = opponent_positions[:, None, :, None, :]\n",
    "# Shape becomes (2, 1, 16, 16, 2) to compare with attack positions\n",
    "\n",
    "# Calculate if any attack position matches any opponent position\n",
    "hits = jnp.all(attack_positions[..., None, :] == opponent_positions_expanded, axis=-1)\n",
    "# hits shape: (2, 16, (2*k+1)^2, 16), where the last dimension checks across all opponent positions\n",
    "\n",
    "# Aggregate hits to form a mask where True indicates a valid attack target\n",
    "valid_targets = jnp.any(hits, axis=-1)\n",
    "# valid_targets shape: (2, 16, (2*k+1)^2), True if any attack hits an opponent\n",
    "\n",
    "# Output the valid targets mask\n",
    "print(\"Valid Targets Mask:\", valid_targets)\n"
   ]
  },
  {
   "cell_type": "code",
   "execution_count": 3,
   "metadata": {},
   "outputs": [],
   "source": [
    "target_coords = jnp.mgrid[-k:k+1, -k:k+1].reshape(2, -1).T"
   ]
  },
  {
   "cell_type": "code",
   "execution_count": 5,
   "metadata": {},
   "outputs": [
    {
     "data": {
      "text/plain": [
       "(121, 2)"
      ]
     },
     "execution_count": 5,
     "metadata": {},
     "output_type": "execute_result"
    }
   ],
   "source": [
    "target_coords.shape"
   ]
  },
  {
   "cell_type": "code",
   "execution_count": 13,
   "metadata": {},
   "outputs": [],
   "source": [
    "import jax.numpy as jnp\n",
    "\n",
    "# Assuming you define the maximum attack range\n",
    "max_attack_range = 5.0  # Maximum distance units can attack\n",
    "\n",
    "# Assuming team_positions and opponent_positions are already defined:\n",
    "# Example initialization (random positions within a 24x24 grid):\n",
    "team_positions = jnp.array(np.random.randint(0, 24, (2, 16, 2)))\n",
    "opponent_positions = jnp.array(np.random.randint(0, 24, (2, 16, 2)))\n",
    "\n",
    "# Calculate squared distances between each team unit and each opponent unit\n",
    "# Broadcasting to create matrices of positions for subtraction and squaring\n",
    "diff = team_positions[:, :, None, :] - opponent_positions[:, None, :, :]\n",
    "distances_squared = jnp.sum(diff**2, axis=-1)\n",
    "\n",
    "# Check which distances are within the squared attack range\n",
    "# This avoids the need for computing a square root, making it more efficient\n",
    "valid_targets = distances_squared <= max_attack_range ** 2\n",
    "\n",
    "# valid_targets shape: (2, 16, 16), where True indicates a valid attack target within range\n",
    "# print(\"Valid Targets Mask:\", valid_targets)\n"
   ]
  },
  {
   "cell_type": "code",
   "execution_count": 30,
   "metadata": {},
   "outputs": [
    {
     "data": {
      "text/plain": [
       "Array([False,  True,  True, False, False, False, False, False, False,\n",
       "        True, False, False, False, False, False, False], dtype=bool)"
      ]
     },
     "execution_count": 30,
     "metadata": {},
     "output_type": "execute_result"
    }
   ],
   "source": [
    "(abs(diff[0, 0, :, 0]) <= max_attack_range) & (abs(diff[0, 0, :, 1]) <= max_attack_range)"
   ]
  },
  {
   "cell_type": "code",
   "execution_count": 31,
   "metadata": {},
   "outputs": [
    {
     "data": {
      "text/plain": [
       "Array([[ -1,  -7],\n",
       "       [  4,   2],\n",
       "       [  3,   3],\n",
       "       [ -7,   7],\n",
       "       [  5,  -6],\n",
       "       [  9,   3],\n",
       "       [ -7,  -6],\n",
       "       [  6,   5],\n",
       "       [  8,  -5],\n",
       "       [  2,   5],\n",
       "       [  9, -10],\n",
       "       [  5, -12],\n",
       "       [  5, -10],\n",
       "       [ -8,  -8],\n",
       "       [ -9, -15],\n",
       "       [  8,  -7]], dtype=int32)"
      ]
     },
     "execution_count": 31,
     "metadata": {},
     "output_type": "execute_result"
    }
   ],
   "source": [
    "diff[0, 0, :, :]"
   ]
  },
  {
   "cell_type": "code",
   "execution_count": 40,
   "metadata": {},
   "outputs": [],
   "source": [
    "MAX_SAP_RANGE = 8"
   ]
  },
  {
   "cell_type": "code",
   "execution_count": 43,
   "metadata": {},
   "outputs": [],
   "source": [
    "team_positions = jnp.array(np.random.randint(0, 24, (1, 4, 2)))\n",
    "opponent_positions = jnp.array(np.random.randint(0, 24, (1, 4, 2)))"
   ]
  },
  {
   "cell_type": "code",
   "execution_count": 44,
   "metadata": {},
   "outputs": [
    {
     "data": {
      "text/plain": [
       "Array([[[16,  9],\n",
       "        [12,  2],\n",
       "        [ 0,  4],\n",
       "        [ 1,  3]]], dtype=int32)"
      ]
     },
     "execution_count": 44,
     "metadata": {},
     "output_type": "execute_result"
    }
   ],
   "source": [
    "team_positions"
   ]
  },
  {
   "cell_type": "code",
   "execution_count": 45,
   "metadata": {},
   "outputs": [
    {
     "data": {
      "text/plain": [
       "Array([[[22,  6],\n",
       "        [15, 10],\n",
       "        [ 3,  5],\n",
       "        [22, 15]]], dtype=int32)"
      ]
     },
     "execution_count": 45,
     "metadata": {},
     "output_type": "execute_result"
    }
   ],
   "source": [
    "opponent_positions"
   ]
  },
  {
   "cell_type": "code",
   "execution_count": 46,
   "metadata": {},
   "outputs": [
    {
     "data": {
      "text/plain": [
       "Array([[[30, 14],\n",
       "        [23, 18],\n",
       "        [11, 13],\n",
       "        [30, 23]]], dtype=int32)"
      ]
     },
     "execution_count": 46,
     "metadata": {},
     "output_type": "execute_result"
    }
   ],
   "source": [
    "adjusted_opponent_positions = opponent_positions + MAX_SAP_RANGE\n",
    "adjusted_opponent_positions"
   ]
  },
  {
   "cell_type": "code",
   "execution_count": 161,
   "metadata": {},
   "outputs": [
    {
     "data": {
      "text/plain": [
       "Array([[[[14,  5],\n",
       "         [ 7,  9],\n",
       "         [-5,  4],\n",
       "         [14, 14]],\n",
       "\n",
       "        [[18, 12],\n",
       "         [11, 16],\n",
       "         [-1, 11],\n",
       "         [18, 21]],\n",
       "\n",
       "        [[30, 10],\n",
       "         [23, 14],\n",
       "         [11,  9],\n",
       "         [30, 19]],\n",
       "\n",
       "        [[29, 11],\n",
       "         [22, 15],\n",
       "         [10, 10],\n",
       "         [29, 20]]]], dtype=int32)"
      ]
     },
     "execution_count": 161,
     "metadata": {},
     "output_type": "execute_result"
    }
   ],
   "source": [
    "diff = -team_positions[:, :, None, :] + adjusted_opponent_positions[:, None, :, :]\n",
    "diff"
   ]
  },
  {
   "cell_type": "code",
   "execution_count": 162,
   "metadata": {},
   "outputs": [],
   "source": [
    "diff = np.array(diff)\n",
    "diff[(diff < 0)] = 20"
   ]
  },
  {
   "cell_type": "code",
   "execution_count": 163,
   "metadata": {},
   "outputs": [
    {
     "data": {
      "text/plain": [
       "(1, 4, 4)"
      ]
     },
     "execution_count": 163,
     "metadata": {},
     "output_type": "execute_result"
    }
   ],
   "source": [
    "diff[..., 0].shape"
   ]
  },
  {
   "cell_type": "code",
   "execution_count": 165,
   "metadata": {},
   "outputs": [],
   "source": [
    "import jax.numpy as jnp\n",
    "from jax import jit, vmap\n",
    "\n",
    "bool_array = jnp.full((4, 17), False, dtype=bool)\n",
    "\n",
    "# Function to set True for one row given indices\n",
    "def set_true_row(bool_array, indices):\n",
    "    # valid_indices = indices[indices >= 0]  # Filter out invalid indices\n",
    "    return bool_array.at[indices].set(True)\n",
    "\n",
    "# Vectorize the function across rows using vmap\n",
    "def update_bool_array(bool_array, turn_ons):\n",
    "    # vmap across the first axis (rows of turn_ons and bool_array)\n",
    "    return vmap(set_true_row, in_axes=(0, 0), out_axes=0)(bool_array, turn_ons)\n",
    "\n",
    "# Use JIT compilation for performance\n",
    "update_bool_array_jit = jit(update_bool_array)\n",
    "\n",
    "\n"
   ]
  },
  {
   "cell_type": "code",
   "execution_count": null,
   "metadata": {},
   "outputs": [
    {
     "name": "stdout",
     "output_type": "stream",
     "text": [
      "[[False False False False False False False  True False False False False\n",
      "  False False  True False False]\n",
      " [False False False False False False False False False False False  True\n",
      "  False False False False False]\n",
      " [False False False False False False False False False False False  True\n",
      "  False False False False False]\n",
      " [False False False False False False False False False False  True False\n",
      "  False False False False False]]\n"
     ]
    }
   ],
   "source": [
    "attack_x = update_bool_array_jit(bool_array, jnp.squeeze(diff[..., 0], axis=0))\n",
    "print(attack_x)"
   ]
  },
  {
   "cell_type": "code",
   "execution_count": 168,
   "metadata": {},
   "outputs": [
    {
     "name": "stdout",
     "output_type": "stream",
     "text": [
      "[[False False False False  True  True False False False  True False False\n",
      "  False False  True False False]\n",
      " [False False False False False False False False False False False  True\n",
      "   True False False False  True]\n",
      " [False False False False False False False False False  True  True False\n",
      "  False False  True False False]\n",
      " [False False False False False False False False False False  True  True\n",
      "  False False False  True False]]\n"
     ]
    }
   ],
   "source": [
    "attack_y = update_bool_array_jit(bool_array, jnp.squeeze(diff[..., 1], axis=0))\n",
    "print(attack_y)"
   ]
  },
  {
   "cell_type": "code",
   "execution_count": null,
   "metadata": {},
   "outputs": [
    {
     "data": {
      "text/plain": [
       "Array([[[14,  7, -5, 14],\n",
       "        [18, 11, -1, 18],\n",
       "        [30, 23, 11, 30],\n",
       "        [29, 22, 10, 29]]], dtype=int32)"
      ]
     },
     "execution_count": 148,
     "metadata": {},
     "output_type": "execute_result"
    }
   ],
   "source": []
  },
  {
   "cell_type": "code",
   "execution_count": null,
   "metadata": {},
   "outputs": [],
   "source": []
  }
 ],
 "metadata": {
  "kernelspec": {
   "display_name": ".conda",
   "language": "python",
   "name": "python3"
  },
  "language_info": {
   "codemirror_mode": {
    "name": "ipython",
    "version": 3
   },
   "file_extension": ".py",
   "mimetype": "text/x-python",
   "name": "python",
   "nbconvert_exporter": "python",
   "pygments_lexer": "ipython3",
   "version": "3.10.15"
  }
 },
 "nbformat": 4,
 "nbformat_minor": 2
}
