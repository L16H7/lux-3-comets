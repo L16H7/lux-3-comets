{
 "cells": [
  {
   "cell_type": "code",
   "execution_count": 2,
   "metadata": {},
   "outputs": [
    {
     "ename": "TypeError",
     "evalue": "eq got incompatible shapes for broadcasting: (2, 16, 121, 1, 2), (2, 1, 16, 1, 2).",
     "output_type": "error",
     "traceback": [
      "\u001b[0;31m---------------------------------------------------------------------------\u001b[0m",
      "\u001b[0;31mTypeError\u001b[0m                                 Traceback (most recent call last)",
      "Cell \u001b[0;32mIn[2], line 26\u001b[0m\n\u001b[1;32m     22\u001b[0m opponent_positions_expanded \u001b[38;5;241m=\u001b[39m opponent_positions[:, \u001b[38;5;28;01mNone\u001b[39;00m, :, \u001b[38;5;28;01mNone\u001b[39;00m, :]\n\u001b[1;32m     23\u001b[0m \u001b[38;5;66;03m# Shape becomes (2, 1, 16, 16, 2) to compare with attack positions\u001b[39;00m\n\u001b[1;32m     24\u001b[0m \n\u001b[1;32m     25\u001b[0m \u001b[38;5;66;03m# Calculate if any attack position matches any opponent position\u001b[39;00m\n\u001b[0;32m---> 26\u001b[0m hits \u001b[38;5;241m=\u001b[39m jnp\u001b[38;5;241m.\u001b[39mall(\u001b[43mattack_positions\u001b[49m\u001b[43m[\u001b[49m\u001b[38;5;241;43m.\u001b[39;49m\u001b[38;5;241;43m.\u001b[39;49m\u001b[38;5;241;43m.\u001b[39;49m\u001b[43m,\u001b[49m\u001b[43m \u001b[49m\u001b[38;5;28;43;01mNone\u001b[39;49;00m\u001b[43m,\u001b[49m\u001b[43m \u001b[49m\u001b[43m:\u001b[49m\u001b[43m]\u001b[49m\u001b[43m \u001b[49m\u001b[38;5;241;43m==\u001b[39;49m\u001b[43m \u001b[49m\u001b[43mopponent_positions_expanded\u001b[49m, axis\u001b[38;5;241m=\u001b[39m\u001b[38;5;241m-\u001b[39m\u001b[38;5;241m1\u001b[39m)\n\u001b[1;32m     27\u001b[0m \u001b[38;5;66;03m# hits shape: (2, 16, (2*k+1)^2, 16), where the last dimension checks across all opponent positions\u001b[39;00m\n\u001b[1;32m     28\u001b[0m \n\u001b[1;32m     29\u001b[0m \u001b[38;5;66;03m# Aggregate hits to form a mask where True indicates a valid attack target\u001b[39;00m\n\u001b[1;32m     30\u001b[0m valid_targets \u001b[38;5;241m=\u001b[39m jnp\u001b[38;5;241m.\u001b[39many(hits, axis\u001b[38;5;241m=\u001b[39m\u001b[38;5;241m-\u001b[39m\u001b[38;5;241m1\u001b[39m)\n",
      "File \u001b[0;32m~/research/neurips/.conda/lib/python3.10/site-packages/jax/_src/numpy/array_methods.py:573\u001b[0m, in \u001b[0;36m_defer_to_unrecognized_arg.<locals>.deferring_binary_op\u001b[0;34m(self, other)\u001b[0m\n\u001b[1;32m    571\u001b[0m args \u001b[38;5;241m=\u001b[39m (other, \u001b[38;5;28mself\u001b[39m) \u001b[38;5;28;01mif\u001b[39;00m swap \u001b[38;5;28;01melse\u001b[39;00m (\u001b[38;5;28mself\u001b[39m, other)\n\u001b[1;32m    572\u001b[0m \u001b[38;5;28;01mif\u001b[39;00m \u001b[38;5;28misinstance\u001b[39m(other, _accepted_binop_types):\n\u001b[0;32m--> 573\u001b[0m   \u001b[38;5;28;01mreturn\u001b[39;00m \u001b[43mbinary_op\u001b[49m\u001b[43m(\u001b[49m\u001b[38;5;241;43m*\u001b[39;49m\u001b[43margs\u001b[49m\u001b[43m)\u001b[49m\n\u001b[1;32m    574\u001b[0m \u001b[38;5;66;03m# Note: don't use isinstance here, because we don't want to raise for\u001b[39;00m\n\u001b[1;32m    575\u001b[0m \u001b[38;5;66;03m# subclasses, e.g. NamedTuple objects that may override operators.\u001b[39;00m\n\u001b[1;32m    576\u001b[0m \u001b[38;5;28;01mif\u001b[39;00m \u001b[38;5;28mtype\u001b[39m(other) \u001b[38;5;129;01min\u001b[39;00m _rejected_binop_types:\n",
      "    \u001b[0;31m[... skipping hidden 11 frame]\u001b[0m\n",
      "File \u001b[0;32m~/research/neurips/.conda/lib/python3.10/site-packages/jax/_src/numpy/ufuncs.py:1245\u001b[0m, in \u001b[0;36mequal\u001b[0;34m(x, y)\u001b[0m\n\u001b[1;32m   1242\u001b[0m \u001b[38;5;129m@implements\u001b[39m(np\u001b[38;5;241m.\u001b[39mequal, module\u001b[38;5;241m=\u001b[39m\u001b[38;5;124m'\u001b[39m\u001b[38;5;124mnumpy\u001b[39m\u001b[38;5;124m'\u001b[39m)\n\u001b[1;32m   1243\u001b[0m \u001b[38;5;129m@partial\u001b[39m(jit, inline\u001b[38;5;241m=\u001b[39m\u001b[38;5;28;01mTrue\u001b[39;00m)\n\u001b[1;32m   1244\u001b[0m \u001b[38;5;28;01mdef\u001b[39;00m \u001b[38;5;21mequal\u001b[39m(x: ArrayLike, y: ArrayLike, \u001b[38;5;241m/\u001b[39m) \u001b[38;5;241m-\u001b[39m\u001b[38;5;241m>\u001b[39m Array:\n\u001b[0;32m-> 1245\u001b[0m   \u001b[38;5;28;01mreturn\u001b[39;00m \u001b[43mlax\u001b[49m\u001b[38;5;241;43m.\u001b[39;49m\u001b[43meq\u001b[49m\u001b[43m(\u001b[49m\u001b[38;5;241;43m*\u001b[39;49m\u001b[43mpromote_args\u001b[49m\u001b[43m(\u001b[49m\u001b[38;5;124;43m\"\u001b[39;49m\u001b[38;5;124;43mequal\u001b[39;49m\u001b[38;5;124;43m\"\u001b[39;49m\u001b[43m,\u001b[49m\u001b[43m \u001b[49m\u001b[43mx\u001b[49m\u001b[43m,\u001b[49m\u001b[43m \u001b[49m\u001b[43my\u001b[49m\u001b[43m)\u001b[49m\u001b[43m)\u001b[49m\n",
      "    \u001b[0;31m[... skipping hidden 7 frame]\u001b[0m\n",
      "File \u001b[0;32m~/research/neurips/.conda/lib/python3.10/site-packages/jax/_src/lax/lax.py:1966\u001b[0m, in \u001b[0;36mbroadcasting_shape_rule\u001b[0;34m(name, *avals)\u001b[0m\n\u001b[1;32m   1964\u001b[0m       result_shape\u001b[38;5;241m.\u001b[39mappend(non_1s[\u001b[38;5;241m0\u001b[39m])\n\u001b[1;32m   1965\u001b[0m     \u001b[38;5;28;01melse\u001b[39;00m:\n\u001b[0;32m-> 1966\u001b[0m       \u001b[38;5;28;01mraise\u001b[39;00m \u001b[38;5;167;01mTypeError\u001b[39;00m(\u001b[38;5;124mf\u001b[39m\u001b[38;5;124m'\u001b[39m\u001b[38;5;132;01m{\u001b[39;00mname\u001b[38;5;132;01m}\u001b[39;00m\u001b[38;5;124m got incompatible shapes for broadcasting: \u001b[39m\u001b[38;5;124m'\u001b[39m\n\u001b[1;32m   1967\u001b[0m                       \u001b[38;5;124mf\u001b[39m\u001b[38;5;124m'\u001b[39m\u001b[38;5;132;01m{\u001b[39;00m\u001b[38;5;124m\"\u001b[39m\u001b[38;5;124m, \u001b[39m\u001b[38;5;124m\"\u001b[39m\u001b[38;5;241m.\u001b[39mjoin(\u001b[38;5;28mmap\u001b[39m(\u001b[38;5;28mstr\u001b[39m,\u001b[38;5;250m \u001b[39m\u001b[38;5;28mmap\u001b[39m(\u001b[38;5;28mtuple\u001b[39m,\u001b[38;5;250m \u001b[39mshapes)))\u001b[38;5;132;01m}\u001b[39;00m\u001b[38;5;124m.\u001b[39m\u001b[38;5;124m'\u001b[39m)\n\u001b[1;32m   1969\u001b[0m \u001b[38;5;28;01mreturn\u001b[39;00m \u001b[38;5;28mtuple\u001b[39m(result_shape)\n",
      "\u001b[0;31mTypeError\u001b[0m: eq got incompatible shapes for broadcasting: (2, 16, 121, 1, 2), (2, 1, 16, 1, 2)."
     ]
    }
   ],
   "source": [
    "import numpy as np\n",
    "import jax.numpy as jnp\n",
    "\n",
    "# Define the number of units per team and the range of target coordinates\n",
    "num_units = 16\n",
    "k = 5  # Define the range of target_x and target_y\n",
    "\n",
    "# Create grid of target coordinates within the specified range\n",
    "target_coords = jnp.mgrid[-k:k+1, -k:k+1].reshape(2, -1).T\n",
    "\n",
    "# Assuming team_positions and opponent_positions are already defined:\n",
    "# team_positions, opponent_positions shapes are both (2, 16, 2)\n",
    "# Example initialization (random positions within a 24x24 grid):\n",
    "team_positions = jnp.array(np.random.randint(0, 24, (2, num_units, 2)))\n",
    "opponent_positions = jnp.array(np.random.randint(0, 24, (2, num_units, 2)))\n",
    "\n",
    "# Calculate all possible attack positions for each team's units\n",
    "attack_positions = team_positions[:, :, None, :] + target_coords[None, None, :, :]\n",
    "# Shape of attack_positions: (2, 16, (2*k+1)^2, 2)\n",
    "\n",
    "# Expand opponent positions for broadcasting comparison\n",
    "opponent_positions_expanded = opponent_positions[:, None, :, None, :]\n",
    "# Shape becomes (2, 1, 16, 16, 2) to compare with attack positions\n",
    "\n",
    "# Calculate if any attack position matches any opponent position\n",
    "hits = jnp.all(attack_positions[..., None, :] == opponent_positions_expanded, axis=-1)\n",
    "# hits shape: (2, 16, (2*k+1)^2, 16), where the last dimension checks across all opponent positions\n",
    "\n",
    "# Aggregate hits to form a mask where True indicates a valid attack target\n",
    "valid_targets = jnp.any(hits, axis=-1)\n",
    "# valid_targets shape: (2, 16, (2*k+1)^2), True if any attack hits an opponent\n",
    "\n",
    "# Output the valid targets mask\n",
    "print(\"Valid Targets Mask:\", valid_targets)\n"
   ]
  },
  {
   "cell_type": "code",
   "execution_count": 3,
   "metadata": {},
   "outputs": [],
   "source": [
    "target_coords = jnp.mgrid[-k:k+1, -k:k+1].reshape(2, -1).T"
   ]
  },
  {
   "cell_type": "code",
   "execution_count": 5,
   "metadata": {},
   "outputs": [
    {
     "data": {
      "text/plain": [
       "(121, 2)"
      ]
     },
     "execution_count": 5,
     "metadata": {},
     "output_type": "execute_result"
    }
   ],
   "source": [
    "target_coords.shape"
   ]
  },
  {
   "cell_type": "code",
   "execution_count": 13,
   "metadata": {},
   "outputs": [],
   "source": [
    "import jax.numpy as jnp\n",
    "\n",
    "# Assuming you define the maximum attack range\n",
    "max_attack_range = 5.0  # Maximum distance units can attack\n",
    "\n",
    "# Assuming team_positions and opponent_positions are already defined:\n",
    "# Example initialization (random positions within a 24x24 grid):\n",
    "team_positions = jnp.array(np.random.randint(0, 24, (2, 16, 2)))\n",
    "opponent_positions = jnp.array(np.random.randint(0, 24, (2, 16, 2)))\n",
    "\n",
    "# Calculate squared distances between each team unit and each opponent unit\n",
    "# Broadcasting to create matrices of positions for subtraction and squaring\n",
    "diff = team_positions[:, :, None, :] - opponent_positions[:, None, :, :]\n",
    "distances_squared = jnp.sum(diff**2, axis=-1)\n",
    "\n",
    "# Check which distances are within the squared attack range\n",
    "# This avoids the need for computing a square root, making it more efficient\n",
    "valid_targets = distances_squared <= max_attack_range ** 2\n",
    "\n",
    "# valid_targets shape: (2, 16, 16), where True indicates a valid attack target within range\n",
    "# print(\"Valid Targets Mask:\", valid_targets)\n"
   ]
  },
  {
   "cell_type": "code",
   "execution_count": 30,
   "metadata": {},
   "outputs": [
    {
     "data": {
      "text/plain": [
       "Array([False,  True,  True, False, False, False, False, False, False,\n",
       "        True, False, False, False, False, False, False], dtype=bool)"
      ]
     },
     "execution_count": 30,
     "metadata": {},
     "output_type": "execute_result"
    }
   ],
   "source": [
    "(abs(diff[0, 0, :, 0]) <= max_attack_range) & (abs(diff[0, 0, :, 1]) <= max_attack_range)"
   ]
  },
  {
   "cell_type": "code",
   "execution_count": 31,
   "metadata": {},
   "outputs": [
    {
     "data": {
      "text/plain": [
       "Array([[ -1,  -7],\n",
       "       [  4,   2],\n",
       "       [  3,   3],\n",
       "       [ -7,   7],\n",
       "       [  5,  -6],\n",
       "       [  9,   3],\n",
       "       [ -7,  -6],\n",
       "       [  6,   5],\n",
       "       [  8,  -5],\n",
       "       [  2,   5],\n",
       "       [  9, -10],\n",
       "       [  5, -12],\n",
       "       [  5, -10],\n",
       "       [ -8,  -8],\n",
       "       [ -9, -15],\n",
       "       [  8,  -7]], dtype=int32)"
      ]
     },
     "execution_count": 31,
     "metadata": {},
     "output_type": "execute_result"
    }
   ],
   "source": [
    "diff[0, 0, :, :]"
   ]
  },
  {
   "cell_type": "code",
   "execution_count": 251,
   "metadata": {},
   "outputs": [],
   "source": [
    "MAX_SAP_RANGE = 4"
   ]
  },
  {
   "cell_type": "code",
   "execution_count": 316,
   "metadata": {},
   "outputs": [],
   "source": [
    "team_positions = jnp.array([[[100, 100],\n",
    "        [15, 18],\n",
    "        [12, 11],\n",
    "        [ -2,  -2]]])"
   ]
  },
  {
   "cell_type": "code",
   "execution_count": 317,
   "metadata": {},
   "outputs": [],
   "source": [
    "opponent_positions = jnp.array([[[5,  5],\n",
    "        [ 7, 23],\n",
    "        [ 1, 18],\n",
    "        [13, 16],\n",
    "        [12, 16],\n",
    "        [ 3,  1]]])"
   ]
  },
  {
   "cell_type": "code",
   "execution_count": 318,
   "metadata": {},
   "outputs": [
    {
     "data": {
      "text/plain": [
       "Array([[[ 9,  9],\n",
       "        [11, 27],\n",
       "        [ 5, 22],\n",
       "        [17, 20],\n",
       "        [16, 20],\n",
       "        [ 7,  5]]], dtype=int32)"
      ]
     },
     "execution_count": 318,
     "metadata": {},
     "output_type": "execute_result"
    }
   ],
   "source": [
    "adjusted_opponent_positions = opponent_positions + MAX_SAP_RANGE\n",
    "adjusted_opponent_positions"
   ]
  },
  {
   "cell_type": "code",
   "execution_count": 319,
   "metadata": {},
   "outputs": [
    {
     "data": {
      "text/plain": [
       "Array([[[[-91, -91],\n",
       "         [-89, -73],\n",
       "         [-95, -78],\n",
       "         [-83, -80],\n",
       "         [-84, -80],\n",
       "         [-93, -95]],\n",
       "\n",
       "        [[ -6,  -9],\n",
       "         [ -4,   9],\n",
       "         [-10,   4],\n",
       "         [  2,   2],\n",
       "         [  1,   2],\n",
       "         [ -8, -13]],\n",
       "\n",
       "        [[ -3,  -2],\n",
       "         [ -1,  16],\n",
       "         [ -7,  11],\n",
       "         [  5,   9],\n",
       "         [  4,   9],\n",
       "         [ -5,  -6]],\n",
       "\n",
       "        [[ 11,  11],\n",
       "         [ 13,  29],\n",
       "         [  7,  24],\n",
       "         [ 19,  22],\n",
       "         [ 18,  22],\n",
       "         [  9,   7]]]], dtype=int32)"
      ]
     },
     "execution_count": 319,
     "metadata": {},
     "output_type": "execute_result"
    }
   ],
   "source": [
    "diff = -team_positions[:, :, None, :] + adjusted_opponent_positions[:, None, :, :]\n",
    "diff"
   ]
  },
  {
   "cell_type": "code",
   "execution_count": 320,
   "metadata": {},
   "outputs": [],
   "source": [
    "diff = jnp.where(diff < 0, 20, diff)"
   ]
  },
  {
   "cell_type": "code",
   "execution_count": 321,
   "metadata": {},
   "outputs": [
    {
     "data": {
      "text/plain": [
       "(1, 4, 6)"
      ]
     },
     "execution_count": 321,
     "metadata": {},
     "output_type": "execute_result"
    }
   ],
   "source": [
    "diff[..., 0].shape"
   ]
  },
  {
   "cell_type": "code",
   "execution_count": 322,
   "metadata": {},
   "outputs": [],
   "source": [
    "import jax.numpy as jnp\n",
    "from jax import jit, vmap\n",
    "\n",
    "\n",
    "# Function to set True for one row given indices\n",
    "def set_true_row(bool_array, indices):\n",
    "    # valid_indices = indices[indices >= 0]  # Filter out invalid indices\n",
    "    return bool_array.at[indices].set(True)\n",
    "\n",
    "# Vectorize the function across rows using vmap\n",
    "def update_bool_array(bool_array, turn_ons):\n",
    "    # vmap across the first axis (rows of turn_ons and bool_array)\n",
    "    return vmap(set_true_row, in_axes=(0, 0), out_axes=0)(bool_array, turn_ons)\n",
    "\n",
    "# Use JIT compilation for performance\n",
    "update_bool_array_jit = jit(update_bool_array)"
   ]
  },
  {
   "cell_type": "code",
   "execution_count": 323,
   "metadata": {},
   "outputs": [
    {
     "data": {
      "text/plain": [
       "(1, 4, 6)"
      ]
     },
     "execution_count": 323,
     "metadata": {},
     "output_type": "execute_result"
    }
   ],
   "source": [
    "diff[..., 0].shape"
   ]
  },
  {
   "cell_type": "code",
   "execution_count": 324,
   "metadata": {},
   "outputs": [
    {
     "data": {
      "text/plain": [
       "(4, 6)"
      ]
     },
     "execution_count": 324,
     "metadata": {},
     "output_type": "execute_result"
    }
   ],
   "source": [
    "jnp.squeeze(diff[..., 0], axis=0).shape"
   ]
  },
  {
   "cell_type": "code",
   "execution_count": 325,
   "metadata": {},
   "outputs": [],
   "source": [
    "bool_array = jnp.full((4, (2 * MAX_SAP_RANGE) + 1), False, dtype=bool)"
   ]
  },
  {
   "cell_type": "code",
   "execution_count": 326,
   "metadata": {},
   "outputs": [
    {
     "name": "stdout",
     "output_type": "stream",
     "text": [
      "[[False False False False False False False False False]\n",
      " [False  True  True False False False False False False]\n",
      " [False False False False  True  True False False False]\n",
      " [False False False False False False False  True False]]\n"
     ]
    }
   ],
   "source": [
    "attack_x = update_bool_array_jit(bool_array, jnp.squeeze(diff[..., 0], axis=0))\n",
    "print(attack_x)"
   ]
  },
  {
   "cell_type": "code",
   "execution_count": 327,
   "metadata": {},
   "outputs": [
    {
     "name": "stdout",
     "output_type": "stream",
     "text": [
      "[[False False False False False False False False False]\n",
      " [False False  True False  True False False False False]\n",
      " [False False False False False False False False False]\n",
      " [False False False False False False False  True False]]\n"
     ]
    }
   ],
   "source": [
    "attack_y = update_bool_array_jit(bool_array, jnp.squeeze(diff[..., 1], axis=0))\n",
    "print(attack_y)"
   ]
  },
  {
   "cell_type": "code",
   "execution_count": 342,
   "metadata": {},
   "outputs": [
    {
     "data": {
      "text/plain": [
       "Array([False,  True, False, False], dtype=bool)"
      ]
     },
     "execution_count": 342,
     "metadata": {},
     "output_type": "execute_result"
    }
   ],
   "source": [
    "(attack_x.sum(axis=1) > 0) & (attack_y.sum(axis=1) > 0) & ((jnp.squeeze(diff, axis=0).sum(-1) < (4 * MAX_SAP_RANGE)).sum(-1) > 0)"
   ]
  },
  {
   "cell_type": "code",
   "execution_count": 340,
   "metadata": {},
   "outputs": [
    {
     "data": {
      "text/plain": [
       "Array([0, 2, 2, 0], dtype=int32)"
      ]
     },
     "execution_count": 340,
     "metadata": {},
     "output_type": "execute_result"
    }
   ],
   "source": [
    "(jnp.squeeze(diff, axis=0).sum(-1) < (4 * MAX_SAP_RANGE)).sum(-1)"
   ]
  },
  {
   "cell_type": "code",
   "execution_count": 407,
   "metadata": {},
   "outputs": [
    {
     "ename": "IndexError",
     "evalue": "Array slice indices must have static start/stop/step to be used with NumPy indexing syntax. Found slice(None, Traced<ShapedArray(int32[])>with<BatchTrace(level=1/0)> with\n  val = Array([5, 3], dtype=int32)\n  batch_dim = 0, None). To index a statically sized array at a dynamic position, try lax.dynamic_slice/dynamic_update_slice (JAX does not support dynamically sized arrays within JIT compiled functions).",
     "output_type": "error",
     "traceback": [
      "\u001b[0;31m---------------------------------------------------------------------------\u001b[0m",
      "\u001b[0;31mIndexError\u001b[0m                                Traceback (most recent call last)",
      "\u001b[0;32m/var/folders/3s/j1ltvrbx3ll222vf9wnmmq0r0000gn/T/ipykernel_61505/600772666.py\u001b[0m in \u001b[0;36m?\u001b[0;34m()\u001b[0m\n\u001b[1;32m     18\u001b[0m \u001b[0;34m\u001b[0m\u001b[0m\n\u001b[1;32m     19\u001b[0m \u001b[0;31m# Using vmap to apply this function across the first dimension (different batches)\u001b[0m\u001b[0;34m\u001b[0m\u001b[0;34m\u001b[0m\u001b[0m\n\u001b[1;32m     20\u001b[0m \u001b[0;31m# The `in_axes` argument is set to (0, 0) to indicate that both logits and upto_idx are\u001b[0m\u001b[0;34m\u001b[0m\u001b[0;34m\u001b[0m\u001b[0m\n\u001b[1;32m     21\u001b[0m \u001b[0;31m# mapped over the first dimension.\u001b[0m\u001b[0;34m\u001b[0m\u001b[0;34m\u001b[0m\u001b[0m\n\u001b[0;32m---> 22\u001b[0;31m \u001b[0mmask_logits\u001b[0m \u001b[0;34m=\u001b[0m \u001b[0mvmap\u001b[0m\u001b[0;34m(\u001b[0m\u001b[0mset_to_neg_inf\u001b[0m\u001b[0;34m)\u001b[0m\u001b[0;34m(\u001b[0m\u001b[0mranges\u001b[0m\u001b[0;34m,\u001b[0m \u001b[0mlogits3\u001b[0m\u001b[0;34m)\u001b[0m\u001b[0;34m\u001b[0m\u001b[0;34m\u001b[0m\u001b[0m\n\u001b[0m\u001b[1;32m     23\u001b[0m \u001b[0;34m\u001b[0m\u001b[0m\n\u001b[1;32m     24\u001b[0m \u001b[0mprint\u001b[0m\u001b[0;34m(\u001b[0m\u001b[0mmask_logits\u001b[0m\u001b[0;34m)\u001b[0m\u001b[0;34m\u001b[0m\u001b[0;34m\u001b[0m\u001b[0m\n",
      "    \u001b[0;31m[... skipping hidden 3 frame]\u001b[0m\n",
      "\u001b[0;32m/var/folders/3s/j1ltvrbx3ll222vf9wnmmq0r0000gn/T/ipykernel_61505/600772666.py\u001b[0m in \u001b[0;36m?\u001b[0;34m(upto_idx, logits)\u001b[0m\n\u001b[1;32m     13\u001b[0m     \u001b[0;31m# print(upto_idx)\u001b[0m\u001b[0;34m\u001b[0m\u001b[0;34m\u001b[0m\u001b[0m\n\u001b[1;32m     14\u001b[0m     \u001b[0;31m# Using JAX's numpy indexing to set values\u001b[0m\u001b[0;34m\u001b[0m\u001b[0;34m\u001b[0m\u001b[0m\n\u001b[1;32m     15\u001b[0m     \u001b[0;31m# logits = logits.at[:, :upto_idx].set(-jnp.inf)\u001b[0m\u001b[0;34m\u001b[0m\u001b[0;34m\u001b[0m\u001b[0m\n\u001b[1;32m     16\u001b[0m     \u001b[0;31m# logits = logits.at[:, -upto_idx:].set(-jnp.inf)\u001b[0m\u001b[0;34m\u001b[0m\u001b[0;34m\u001b[0m\u001b[0m\n\u001b[0;32m---> 17\u001b[0;31m     \u001b[0;32mreturn\u001b[0m \u001b[0mlogits\u001b[0m\u001b[0;34m.\u001b[0m\u001b[0mat\u001b[0m\u001b[0;34m[\u001b[0m\u001b[0;34m:\u001b[0m\u001b[0;34m,\u001b[0m \u001b[0;34m:\u001b[0m \u001b[0mupto_idx\u001b[0m\u001b[0;34m]\u001b[0m\u001b[0;34m.\u001b[0m\u001b[0mset\u001b[0m\u001b[0;34m(\u001b[0m\u001b[0;34m-\u001b[0m\u001b[0mjnp\u001b[0m\u001b[0;34m.\u001b[0m\u001b[0minf\u001b[0m\u001b[0;34m)\u001b[0m\u001b[0;34m\u001b[0m\u001b[0;34m\u001b[0m\u001b[0m\n\u001b[0m",
      "\u001b[0;32m~/research/neurips/.conda/lib/python3.10/site-packages/jax/_src/numpy/array_methods.py\u001b[0m in \u001b[0;36m?\u001b[0;34m(self, values, indices_are_sorted, unique_indices, mode)\u001b[0m\n\u001b[1;32m    784\u001b[0m     \u001b[0;34m:\u001b[0m\u001b[0mmod\u001b[0m\u001b[0;34m:\u001b[0m\u001b[0;31m`\u001b[0m\u001b[0mindexed\u001b[0m \u001b[0massignment\u001b[0m \u001b[0;34m<\u001b[0m\u001b[0mnumpy\u001b[0m\u001b[0;34m.\u001b[0m\u001b[0mdoc\u001b[0m\u001b[0;34m.\u001b[0m\u001b[0mindexing\u001b[0m\u001b[0;34m>\u001b[0m\u001b[0;31m`\u001b[0m\u001b[0;31m \u001b[0m\u001b[0;31m`\u001b[0m\u001b[0;31m`\u001b[0m\u001b[0mx\u001b[0m\u001b[0;34m[\u001b[0m\u001b[0midx\u001b[0m\u001b[0;34m]\u001b[0m \u001b[0;34m=\u001b[0m \u001b[0my\u001b[0m\u001b[0;31m`\u001b[0m\u001b[0;31m`\u001b[0m\u001b[0;34m.\u001b[0m\u001b[0;34m\u001b[0m\u001b[0;34m\u001b[0m\u001b[0m\n\u001b[1;32m    785\u001b[0m \u001b[0;34m\u001b[0m\u001b[0m\n\u001b[1;32m    786\u001b[0m     \u001b[0mSee\u001b[0m \u001b[0;34m:\u001b[0m\u001b[0mmod\u001b[0m\u001b[0;34m:\u001b[0m\u001b[0;31m`\u001b[0m\u001b[0mjax\u001b[0m\u001b[0;34m.\u001b[0m\u001b[0mops\u001b[0m\u001b[0;31m`\u001b[0m \u001b[0;32mfor\u001b[0m \u001b[0mdetails\u001b[0m\u001b[0;34m.\u001b[0m\u001b[0;34m\u001b[0m\u001b[0;34m\u001b[0m\u001b[0m\n\u001b[1;32m    787\u001b[0m     \"\"\"\n\u001b[0;32m--> 788\u001b[0;31m     return scatter._scatter_update(self.array, self.index, values, lax.scatter,\n\u001b[0m\u001b[1;32m    789\u001b[0m                                    \u001b[0mindices_are_sorted\u001b[0m\u001b[0;34m=\u001b[0m\u001b[0mindices_are_sorted\u001b[0m\u001b[0;34m,\u001b[0m\u001b[0;34m\u001b[0m\u001b[0;34m\u001b[0m\u001b[0m\n\u001b[1;32m    790\u001b[0m                                    unique_indices=unique_indices, mode=mode)\n",
      "\u001b[0;32m~/research/neurips/.conda/lib/python3.10/site-packages/jax/_src/ops/scatter.py\u001b[0m in \u001b[0;36m?\u001b[0;34m(x, idx, y, scatter_op, indices_are_sorted, unique_indices, mode, normalize_indices)\u001b[0m\n\u001b[1;32m     72\u001b[0m \u001b[0;34m\u001b[0m\u001b[0m\n\u001b[1;32m     73\u001b[0m   \u001b[0;31m# XLA gathers and scatters are very similar in structure; the scatter logic\u001b[0m\u001b[0;34m\u001b[0m\u001b[0;34m\u001b[0m\u001b[0m\n\u001b[1;32m     74\u001b[0m   \u001b[0;31m# is more or less a transpose of the gather equivalent.\u001b[0m\u001b[0;34m\u001b[0m\u001b[0;34m\u001b[0m\u001b[0m\n\u001b[1;32m     75\u001b[0m   \u001b[0mtreedef\u001b[0m\u001b[0;34m,\u001b[0m \u001b[0mstatic_idx\u001b[0m\u001b[0;34m,\u001b[0m \u001b[0mdynamic_idx\u001b[0m \u001b[0;34m=\u001b[0m \u001b[0mjnp\u001b[0m\u001b[0;34m.\u001b[0m\u001b[0m_split_index_for_jit\u001b[0m\u001b[0;34m(\u001b[0m\u001b[0midx\u001b[0m\u001b[0;34m,\u001b[0m \u001b[0mx\u001b[0m\u001b[0;34m.\u001b[0m\u001b[0mshape\u001b[0m\u001b[0;34m)\u001b[0m\u001b[0;34m\u001b[0m\u001b[0;34m\u001b[0m\u001b[0m\n\u001b[0;32m---> 76\u001b[0;31m   return _scatter_impl(x, y, scatter_op, treedef, static_idx, dynamic_idx,\n\u001b[0m\u001b[1;32m     77\u001b[0m                        \u001b[0mindices_are_sorted\u001b[0m\u001b[0;34m,\u001b[0m \u001b[0munique_indices\u001b[0m\u001b[0;34m,\u001b[0m \u001b[0mmode\u001b[0m\u001b[0;34m,\u001b[0m\u001b[0;34m\u001b[0m\u001b[0;34m\u001b[0m\u001b[0m\n\u001b[1;32m     78\u001b[0m                        normalize_indices)\n",
      "\u001b[0;32m~/research/neurips/.conda/lib/python3.10/site-packages/jax/_src/ops/scatter.py\u001b[0m in \u001b[0;36m?\u001b[0;34m(x, y, scatter_op, treedef, static_idx, dynamic_idx, indices_are_sorted, unique_indices, mode, normalize_indices)\u001b[0m\n\u001b[1;32m     96\u001b[0m       \u001b[0;34m\"In future JAX releases this will result in an error.\"\u001b[0m\u001b[0;34m,\u001b[0m\u001b[0;34m\u001b[0m\u001b[0;34m\u001b[0m\u001b[0m\n\u001b[1;32m     97\u001b[0m       FutureWarning)\n\u001b[1;32m     98\u001b[0m \u001b[0;34m\u001b[0m\u001b[0m\n\u001b[1;32m     99\u001b[0m   \u001b[0midx\u001b[0m \u001b[0;34m=\u001b[0m \u001b[0mjnp\u001b[0m\u001b[0;34m.\u001b[0m\u001b[0m_merge_static_and_dynamic_indices\u001b[0m\u001b[0;34m(\u001b[0m\u001b[0mtreedef\u001b[0m\u001b[0;34m,\u001b[0m \u001b[0mstatic_idx\u001b[0m\u001b[0;34m,\u001b[0m \u001b[0mdynamic_idx\u001b[0m\u001b[0;34m)\u001b[0m\u001b[0;34m\u001b[0m\u001b[0;34m\u001b[0m\u001b[0m\n\u001b[0;32m--> 100\u001b[0;31m   indexer = jnp._index_to_gather(jnp.shape(x), idx,\n\u001b[0m\u001b[1;32m    101\u001b[0m                                  normalize_indices=normalize_indices)\n\u001b[1;32m    102\u001b[0m \u001b[0;34m\u001b[0m\u001b[0m\n\u001b[1;32m    103\u001b[0m   \u001b[0;31m# Avoid calling scatter if the slice shape is empty, both as a fast path and\u001b[0m\u001b[0;34m\u001b[0m\u001b[0;34m\u001b[0m\u001b[0m\n",
      "\u001b[0;32m~/research/neurips/.conda/lib/python3.10/site-packages/jax/_src/numpy/lax_numpy.py\u001b[0m in \u001b[0;36m?\u001b[0;34m(x_shape, idx, normalize_indices)\u001b[0m\n\u001b[1;32m  10870\u001b[0m                \u001b[0;34m\"To index a statically sized \"\u001b[0m\u001b[0;34m\u001b[0m\u001b[0;34m\u001b[0m\u001b[0m\n\u001b[1;32m  10871\u001b[0m                \u001b[0;34m\"array at a dynamic position, try lax.dynamic_slice/\"\u001b[0m\u001b[0;34m\u001b[0m\u001b[0;34m\u001b[0m\u001b[0m\n\u001b[1;32m  10872\u001b[0m                \u001b[0;34m\"dynamic_update_slice (JAX does not support dynamically sized \"\u001b[0m\u001b[0;34m\u001b[0m\u001b[0;34m\u001b[0m\u001b[0m\n\u001b[1;32m  10873\u001b[0m                \"arrays within JIT compiled functions).\")\n\u001b[0;32m> 10874\u001b[0;31m         \u001b[0;32mraise\u001b[0m \u001b[0mIndexError\u001b[0m\u001b[0;34m(\u001b[0m\u001b[0mmsg\u001b[0m\u001b[0;34m)\u001b[0m\u001b[0;34m\u001b[0m\u001b[0;34m\u001b[0m\u001b[0m\n\u001b[0m\u001b[1;32m  10875\u001b[0m \u001b[0;34m\u001b[0m\u001b[0m\n\u001b[1;32m  10876\u001b[0m       \u001b[0mstart\u001b[0m\u001b[0;34m,\u001b[0m \u001b[0mstep\u001b[0m\u001b[0;34m,\u001b[0m \u001b[0mslice_size\u001b[0m \u001b[0;34m=\u001b[0m \u001b[0m_preprocess_slice\u001b[0m\u001b[0;34m(\u001b[0m\u001b[0mi\u001b[0m\u001b[0;34m,\u001b[0m \u001b[0mx_shape\u001b[0m\u001b[0;34m[\u001b[0m\u001b[0mx_axis\u001b[0m\u001b[0;34m]\u001b[0m\u001b[0;34m)\u001b[0m\u001b[0;34m\u001b[0m\u001b[0;34m\u001b[0m\u001b[0m\n\u001b[1;32m  10877\u001b[0m       \u001b[0mslice_shape\u001b[0m\u001b[0;34m.\u001b[0m\u001b[0mappend\u001b[0m\u001b[0;34m(\u001b[0m\u001b[0mslice_size\u001b[0m\u001b[0;34m)\u001b[0m\u001b[0;34m\u001b[0m\u001b[0;34m\u001b[0m\u001b[0m\n",
      "\u001b[0;31mIndexError\u001b[0m: Array slice indices must have static start/stop/step to be used with NumPy indexing syntax. Found slice(None, Traced<ShapedArray(int32[])>with<BatchTrace(level=1/0)> with\n  val = Array([5, 3], dtype=int32)\n  batch_dim = 0, None). To index a statically sized array at a dynamic position, try lax.dynamic_slice/dynamic_update_slice (JAX does not support dynamically sized arrays within JIT compiled functions)."
     ]
    }
   ],
   "source": [
    "import jax\n",
    "import jax.numpy as jnp\n",
    "from jax import vmap\n",
    "\n",
    "# Example logits3 array and ranges\n",
    "rng = jax.random.PRNGKey(42)\n",
    "# logits3 = jax.random.normal(rng, (2, 16, 17))  # Dummy data with the shape (2, 16, 17)\n",
    "logits3 = jnp.ones((2, 16, 17))\n",
    "ranges = jnp.array([5, 3])  # Example ranges a = 5, b = 3\n",
    "\n",
    "# Function to set part of the array to -inf up to a certain index\n",
    "def set_to_neg_inf(upto_idx, logits):\n",
    "    # print(upto_idx)\n",
    "    # Using JAX's numpy indexing to set values\n",
    "    # logits = logits.at[:, :upto_idx].set(-jnp.inf)\n",
    "    # logits = logits.at[:, -upto_idx:].set(-jnp.inf)\n",
    "    return logits.at[:, : upto_idx].set(-jnp.inf)\n",
    "\n",
    "# Using vmap to apply this function across the first dimension (different batches)\n",
    "# The `in_axes` argument is set to (0, 0) to indicate that both logits and upto_idx are\n",
    "# mapped over the first dimension.\n",
    "mask_logits = vmap(set_to_neg_inf)(ranges, logits3)\n",
    "\n",
    "print(mask_logits)\n"
   ]
  },
  {
   "cell_type": "code",
   "execution_count": 412,
   "metadata": {},
   "outputs": [],
   "source": [
    "import jax\n",
    "import jax.numpy as jnp\n",
    "\n",
    "def mask_logits_slice(logits_slice, cutoff):\n",
    "    # logits_slice: (16, 17)\n",
    "    # cutoff: integer value like a or b\n",
    "    cols = logits_slice.shape[1]\n",
    "    # Create a mask: True where column index < cutoff\n",
    "    mask = jnp.arange(cols) < cutoff\n",
    "    # Apply mask to set values to -inf where mask is True\n",
    "    return jnp.where(mask[None, :], -jnp.inf, logits_slice)\n",
    "\n",
    "ranges = jnp.array([1, 4])\n",
    "masked_logits3 = jax.vmap(mask_logits_slice, in_axes=(0, 0))(logits3, ranges)\n"
   ]
  },
  {
   "cell_type": "code",
   "execution_count": 413,
   "metadata": {},
   "outputs": [
    {
     "data": {
      "text/plain": [
       "Array([[[-inf,   1.,   1.,   1.,   1.,   1.,   1.,   1.,   1.,   1.,\n",
       "           1.,   1.,   1.,   1.,   1.,   1.,   1.],\n",
       "        [-inf,   1.,   1.,   1.,   1.,   1.,   1.,   1.,   1.,   1.,\n",
       "           1.,   1.,   1.,   1.,   1.,   1.,   1.],\n",
       "        [-inf,   1.,   1.,   1.,   1.,   1.,   1.,   1.,   1.,   1.,\n",
       "           1.,   1.,   1.,   1.,   1.,   1.,   1.],\n",
       "        [-inf,   1.,   1.,   1.,   1.,   1.,   1.,   1.,   1.,   1.,\n",
       "           1.,   1.,   1.,   1.,   1.,   1.,   1.],\n",
       "        [-inf,   1.,   1.,   1.,   1.,   1.,   1.,   1.,   1.,   1.,\n",
       "           1.,   1.,   1.,   1.,   1.,   1.,   1.],\n",
       "        [-inf,   1.,   1.,   1.,   1.,   1.,   1.,   1.,   1.,   1.,\n",
       "           1.,   1.,   1.,   1.,   1.,   1.,   1.],\n",
       "        [-inf,   1.,   1.,   1.,   1.,   1.,   1.,   1.,   1.,   1.,\n",
       "           1.,   1.,   1.,   1.,   1.,   1.,   1.],\n",
       "        [-inf,   1.,   1.,   1.,   1.,   1.,   1.,   1.,   1.,   1.,\n",
       "           1.,   1.,   1.,   1.,   1.,   1.,   1.],\n",
       "        [-inf,   1.,   1.,   1.,   1.,   1.,   1.,   1.,   1.,   1.,\n",
       "           1.,   1.,   1.,   1.,   1.,   1.,   1.],\n",
       "        [-inf,   1.,   1.,   1.,   1.,   1.,   1.,   1.,   1.,   1.,\n",
       "           1.,   1.,   1.,   1.,   1.,   1.,   1.],\n",
       "        [-inf,   1.,   1.,   1.,   1.,   1.,   1.,   1.,   1.,   1.,\n",
       "           1.,   1.,   1.,   1.,   1.,   1.,   1.],\n",
       "        [-inf,   1.,   1.,   1.,   1.,   1.,   1.,   1.,   1.,   1.,\n",
       "           1.,   1.,   1.,   1.,   1.,   1.,   1.],\n",
       "        [-inf,   1.,   1.,   1.,   1.,   1.,   1.,   1.,   1.,   1.,\n",
       "           1.,   1.,   1.,   1.,   1.,   1.,   1.],\n",
       "        [-inf,   1.,   1.,   1.,   1.,   1.,   1.,   1.,   1.,   1.,\n",
       "           1.,   1.,   1.,   1.,   1.,   1.,   1.],\n",
       "        [-inf,   1.,   1.,   1.,   1.,   1.,   1.,   1.,   1.,   1.,\n",
       "           1.,   1.,   1.,   1.,   1.,   1.,   1.],\n",
       "        [-inf,   1.,   1.,   1.,   1.,   1.,   1.,   1.,   1.,   1.,\n",
       "           1.,   1.,   1.,   1.,   1.,   1.,   1.]],\n",
       "\n",
       "       [[-inf, -inf, -inf, -inf,   1.,   1.,   1.,   1.,   1.,   1.,\n",
       "           1.,   1.,   1.,   1.,   1.,   1.,   1.],\n",
       "        [-inf, -inf, -inf, -inf,   1.,   1.,   1.,   1.,   1.,   1.,\n",
       "           1.,   1.,   1.,   1.,   1.,   1.,   1.],\n",
       "        [-inf, -inf, -inf, -inf,   1.,   1.,   1.,   1.,   1.,   1.,\n",
       "           1.,   1.,   1.,   1.,   1.,   1.,   1.],\n",
       "        [-inf, -inf, -inf, -inf,   1.,   1.,   1.,   1.,   1.,   1.,\n",
       "           1.,   1.,   1.,   1.,   1.,   1.,   1.],\n",
       "        [-inf, -inf, -inf, -inf,   1.,   1.,   1.,   1.,   1.,   1.,\n",
       "           1.,   1.,   1.,   1.,   1.,   1.,   1.],\n",
       "        [-inf, -inf, -inf, -inf,   1.,   1.,   1.,   1.,   1.,   1.,\n",
       "           1.,   1.,   1.,   1.,   1.,   1.,   1.],\n",
       "        [-inf, -inf, -inf, -inf,   1.,   1.,   1.,   1.,   1.,   1.,\n",
       "           1.,   1.,   1.,   1.,   1.,   1.,   1.],\n",
       "        [-inf, -inf, -inf, -inf,   1.,   1.,   1.,   1.,   1.,   1.,\n",
       "           1.,   1.,   1.,   1.,   1.,   1.,   1.],\n",
       "        [-inf, -inf, -inf, -inf,   1.,   1.,   1.,   1.,   1.,   1.,\n",
       "           1.,   1.,   1.,   1.,   1.,   1.,   1.],\n",
       "        [-inf, -inf, -inf, -inf,   1.,   1.,   1.,   1.,   1.,   1.,\n",
       "           1.,   1.,   1.,   1.,   1.,   1.,   1.],\n",
       "        [-inf, -inf, -inf, -inf,   1.,   1.,   1.,   1.,   1.,   1.,\n",
       "           1.,   1.,   1.,   1.,   1.,   1.,   1.],\n",
       "        [-inf, -inf, -inf, -inf,   1.,   1.,   1.,   1.,   1.,   1.,\n",
       "           1.,   1.,   1.,   1.,   1.,   1.,   1.],\n",
       "        [-inf, -inf, -inf, -inf,   1.,   1.,   1.,   1.,   1.,   1.,\n",
       "           1.,   1.,   1.,   1.,   1.,   1.,   1.],\n",
       "        [-inf, -inf, -inf, -inf,   1.,   1.,   1.,   1.,   1.,   1.,\n",
       "           1.,   1.,   1.,   1.,   1.,   1.,   1.],\n",
       "        [-inf, -inf, -inf, -inf,   1.,   1.,   1.,   1.,   1.,   1.,\n",
       "           1.,   1.,   1.,   1.,   1.,   1.,   1.],\n",
       "        [-inf, -inf, -inf, -inf,   1.,   1.,   1.,   1.,   1.,   1.,\n",
       "           1.,   1.,   1.,   1.,   1.,   1.,   1.]]], dtype=float32)"
      ]
     },
     "execution_count": 413,
     "metadata": {},
     "output_type": "execute_result"
    }
   ],
   "source": [
    "masked_logits3"
   ]
  },
  {
   "cell_type": "code",
   "execution_count": 420,
   "metadata": {},
   "outputs": [
    {
     "data": {
      "text/plain": [
       "Array([[[-inf,   1.,   1.,   1.,   1.,   1.,   1.,   1.,   1.,   1.,\n",
       "           1.,   1.,   1.,   1.,   1.,   1., -inf],\n",
       "        [-inf,   1.,   1.,   1.,   1.,   1.,   1.,   1.,   1.,   1.,\n",
       "           1.,   1.,   1.,   1.,   1.,   1., -inf],\n",
       "        [-inf,   1.,   1.,   1.,   1.,   1.,   1.,   1.,   1.,   1.,\n",
       "           1.,   1.,   1.,   1.,   1.,   1., -inf],\n",
       "        [-inf,   1.,   1.,   1.,   1.,   1.,   1.,   1.,   1.,   1.,\n",
       "           1.,   1.,   1.,   1.,   1.,   1., -inf],\n",
       "        [-inf,   1.,   1.,   1.,   1.,   1.,   1.,   1.,   1.,   1.,\n",
       "           1.,   1.,   1.,   1.,   1.,   1., -inf],\n",
       "        [-inf,   1.,   1.,   1.,   1.,   1.,   1.,   1.,   1.,   1.,\n",
       "           1.,   1.,   1.,   1.,   1.,   1., -inf],\n",
       "        [-inf,   1.,   1.,   1.,   1.,   1.,   1.,   1.,   1.,   1.,\n",
       "           1.,   1.,   1.,   1.,   1.,   1., -inf],\n",
       "        [-inf,   1.,   1.,   1.,   1.,   1.,   1.,   1.,   1.,   1.,\n",
       "           1.,   1.,   1.,   1.,   1.,   1., -inf],\n",
       "        [-inf,   1.,   1.,   1.,   1.,   1.,   1.,   1.,   1.,   1.,\n",
       "           1.,   1.,   1.,   1.,   1.,   1., -inf],\n",
       "        [-inf,   1.,   1.,   1.,   1.,   1.,   1.,   1.,   1.,   1.,\n",
       "           1.,   1.,   1.,   1.,   1.,   1., -inf],\n",
       "        [-inf,   1.,   1.,   1.,   1.,   1.,   1.,   1.,   1.,   1.,\n",
       "           1.,   1.,   1.,   1.,   1.,   1., -inf],\n",
       "        [-inf,   1.,   1.,   1.,   1.,   1.,   1.,   1.,   1.,   1.,\n",
       "           1.,   1.,   1.,   1.,   1.,   1., -inf],\n",
       "        [-inf,   1.,   1.,   1.,   1.,   1.,   1.,   1.,   1.,   1.,\n",
       "           1.,   1.,   1.,   1.,   1.,   1., -inf],\n",
       "        [-inf,   1.,   1.,   1.,   1.,   1.,   1.,   1.,   1.,   1.,\n",
       "           1.,   1.,   1.,   1.,   1.,   1., -inf],\n",
       "        [-inf,   1.,   1.,   1.,   1.,   1.,   1.,   1.,   1.,   1.,\n",
       "           1.,   1.,   1.,   1.,   1.,   1., -inf],\n",
       "        [-inf,   1.,   1.,   1.,   1.,   1.,   1.,   1.,   1.,   1.,\n",
       "           1.,   1.,   1.,   1.,   1.,   1., -inf]],\n",
       "\n",
       "       [[-inf, -inf, -inf, -inf,   1.,   1.,   1.,   1.,   1.,   1.,\n",
       "           1.,   1.,   1., -inf, -inf, -inf, -inf],\n",
       "        [-inf, -inf, -inf, -inf,   1.,   1.,   1.,   1.,   1.,   1.,\n",
       "           1.,   1.,   1., -inf, -inf, -inf, -inf],\n",
       "        [-inf, -inf, -inf, -inf,   1.,   1.,   1.,   1.,   1.,   1.,\n",
       "           1.,   1.,   1., -inf, -inf, -inf, -inf],\n",
       "        [-inf, -inf, -inf, -inf,   1.,   1.,   1.,   1.,   1.,   1.,\n",
       "           1.,   1.,   1., -inf, -inf, -inf, -inf],\n",
       "        [-inf, -inf, -inf, -inf,   1.,   1.,   1.,   1.,   1.,   1.,\n",
       "           1.,   1.,   1., -inf, -inf, -inf, -inf],\n",
       "        [-inf, -inf, -inf, -inf,   1.,   1.,   1.,   1.,   1.,   1.,\n",
       "           1.,   1.,   1., -inf, -inf, -inf, -inf],\n",
       "        [-inf, -inf, -inf, -inf,   1.,   1.,   1.,   1.,   1.,   1.,\n",
       "           1.,   1.,   1., -inf, -inf, -inf, -inf],\n",
       "        [-inf, -inf, -inf, -inf,   1.,   1.,   1.,   1.,   1.,   1.,\n",
       "           1.,   1.,   1., -inf, -inf, -inf, -inf],\n",
       "        [-inf, -inf, -inf, -inf,   1.,   1.,   1.,   1.,   1.,   1.,\n",
       "           1.,   1.,   1., -inf, -inf, -inf, -inf],\n",
       "        [-inf, -inf, -inf, -inf,   1.,   1.,   1.,   1.,   1.,   1.,\n",
       "           1.,   1.,   1., -inf, -inf, -inf, -inf],\n",
       "        [-inf, -inf, -inf, -inf,   1.,   1.,   1.,   1.,   1.,   1.,\n",
       "           1.,   1.,   1., -inf, -inf, -inf, -inf],\n",
       "        [-inf, -inf, -inf, -inf,   1.,   1.,   1.,   1.,   1.,   1.,\n",
       "           1.,   1.,   1., -inf, -inf, -inf, -inf],\n",
       "        [-inf, -inf, -inf, -inf,   1.,   1.,   1.,   1.,   1.,   1.,\n",
       "           1.,   1.,   1., -inf, -inf, -inf, -inf],\n",
       "        [-inf, -inf, -inf, -inf,   1.,   1.,   1.,   1.,   1.,   1.,\n",
       "           1.,   1.,   1., -inf, -inf, -inf, -inf],\n",
       "        [-inf, -inf, -inf, -inf,   1.,   1.,   1.,   1.,   1.,   1.,\n",
       "           1.,   1.,   1., -inf, -inf, -inf, -inf],\n",
       "        [-inf, -inf, -inf, -inf,   1.,   1.,   1.,   1.,   1.,   1.,\n",
       "           1.,   1.,   1., -inf, -inf, -inf, -inf]]], dtype=float32)"
      ]
     },
     "execution_count": 420,
     "metadata": {},
     "output_type": "execute_result"
    }
   ],
   "source": [
    "import jax\n",
    "import jax.numpy as jnp\n",
    "\n",
    "def mask_logits_slice(logits_slice, cutoff):\n",
    "    # logits_slice: (16, 17)\n",
    "    # cutoff: integer value like a or b\n",
    "    cols = logits_slice.shape[1]\n",
    "    # Create a mask: True where column index < cutoff\n",
    "    mask = jnp.arange(cols) < cutoff\n",
    "    # Apply mask to set values to -inf where mask is True\n",
    "    logits_slice = jnp.where(mask[None, :], -jnp.inf, logits_slice)\n",
    "    \n",
    "    mask2 = jnp.arange(cols) > (16 - cutoff)\n",
    "    logits_slice = jnp.where(mask2[None, :], -jnp.inf, logits_slice)\n",
    "    return logits_slice\n",
    "\n",
    "ranges = jnp.array([1, 4])\n",
    "masked_logits3 = jax.vmap(mask_logits_slice, in_axes=(0, 0))(logits3, ranges)\n",
    "masked_logits3"
   ]
  },
  {
   "cell_type": "code",
   "execution_count": 21,
   "metadata": {},
   "outputs": [],
   "source": [
    "import jax\n",
    "import jax.numpy as jnp\n",
    "\n",
    "def transform_observation(obs):\n",
    "    # Horizontal flip\n",
    "    flipped = jnp.flip(obs, axis=1)\n",
    "    \n",
    "    # Rotate 90 degrees clockwise after flip\n",
    "    rotated = jnp.rot90(flipped, k=-1, axes=(0, 1))\n",
    "    \n",
    "    return rotated\n",
    "\n",
    "# Assuming obs is your 24x24x9 observation tensor\n",
    "rng = jax.random.PRNGKey(42)\n",
    "obs = jax.random.randint(rng, (5, 5), 0, 3)\n",
    "transformed_obs = transform_observation(obs)\n"
   ]
  },
  {
   "cell_type": "code",
   "execution_count": 22,
   "metadata": {},
   "outputs": [
    {
     "data": {
      "text/plain": [
       "Array([[1, 0, 1, 1, 2],\n",
       "       [1, 1, 0, 2, 1],\n",
       "       [1, 2, 0, 2, 1],\n",
       "       [0, 1, 0, 1, 2],\n",
       "       [2, 2, 0, 2, 2]], dtype=int32)"
      ]
     },
     "execution_count": 22,
     "metadata": {},
     "output_type": "execute_result"
    }
   ],
   "source": [
    "obs"
   ]
  },
  {
   "cell_type": "code",
   "execution_count": 23,
   "metadata": {},
   "outputs": [
    {
     "data": {
      "text/plain": [
       "Array([[2, 2, 1, 1, 2],\n",
       "       [2, 1, 2, 2, 1],\n",
       "       [0, 0, 0, 0, 1],\n",
       "       [2, 1, 2, 1, 0],\n",
       "       [2, 0, 1, 1, 1]], dtype=int32)"
      ]
     },
     "execution_count": 23,
     "metadata": {},
     "output_type": "execute_result"
    }
   ],
   "source": [
    "transformed_obs"
   ]
  },
  {
   "cell_type": "code",
   "execution_count": 96,
   "metadata": {},
   "outputs": [
    {
     "name": "stdout",
     "output_type": "stream",
     "text": [
      "Transformed coordinates: (3, 11)\n"
     ]
    }
   ],
   "source": [
    "def transform_coordinates(x, y, map_size=24):\n",
    "    # Adjust for horizontal flip\n",
    "    new_x, new_y = map_size - 1 - x, y\n",
    "    # Adjust for 90-degree rotation clockwise\n",
    "    final_x, final_y = map_size - 1 - new_y, new_x\n",
    "    \n",
    "    return final_x, final_y\n",
    "\n",
    "# Example usage:\n",
    "x, y = 12,20 # Example starting position\n",
    "transformed_x, transformed_y = transform_coordinates(x, y, 24)\n",
    "print(f\"Transformed coordinates: ({transformed_x}, {transformed_y})\")\n"
   ]
  },
  {
   "cell_type": "code",
   "execution_count": 78,
   "metadata": {},
   "outputs": [],
   "source": [
    "import jax.numpy as jnp\n",
    "\n",
    "def transform_coordinates(unit_positions):\n",
    "    # Constants\n",
    "    MAP_WIDTH = 24\n",
    "    MAP_HEIGHT = 24\n",
    "    \n",
    "    # Adjust for horizontal flip: (x, y) -> (MAP_WIDTH - 1 - x, y)\n",
    "    flipped_positions = jnp.stack([MAP_WIDTH - 1 - unit_positions[:,:,0], unit_positions[:,:,1]], axis=-1)\n",
    "    \n",
    "    # Adjust for 90-degree rotation clockwise: (MAP_WIDTH - 1 - x, y) -> (y, MAP_WIDTH - 1 - x)\n",
    "    rotated_positions = jnp.stack([MAP_HEIGHT - 1 - flipped_positions[:,:,1], flipped_positions[:,:,0]], axis=-1)\n",
    "    \n",
    "    return rotated_positions\n",
    "\n",
    "# Assuming unit_positions_team is your 4x16x2 tensor\n",
    "unit_positions_team = jnp.zeros((4, 16, 2))  # Example tensor for demonstration\n",
    "transformed_positions = transform_coordinates(unit_positions_team)\n"
   ]
  },
  {
   "cell_type": "code",
   "execution_count": null,
   "metadata": {},
   "outputs": [
    {
     "data": {
      "text/plain": [
       "Array(False, dtype=bool)"
      ]
     },
     "execution_count": 79,
     "metadata": {},
     "output_type": "execute_result"
    }
   ],
   "source": [
    "input_positions = jnp.array([[[0, 0], [23, 23], [12, 0], [0, 23]],\n",
    "                                [[23, 0], [0, 23], [12, 23], [23, 0]],\n",
    "                                [[11, 11], [12, 12], [13, 13], [14, 14]],\n",
    "                                [[0, 12], [23, 12], [12, 20], [12, 0]]])\n",
    "\n",
    "# Expected output after horizontal flip and 90-degree rotation clockwise\n",
    "expected_output = jnp.array([[[23, 23], [0, 0], [23, 11], [0, 23]],\n",
    "                                [[23, 0], [0, 23], [0, 11], [23, 0]],\n",
    "                                [[12, 12], [11, 11], [10, 10], [9, 9]],\n",
    "                                [[11, 23], [11, 0], [3, 11], [23, 12]]])\n",
    "\n",
    "# Running the transformation function\n",
    "transformed_positions = transform_coordinates(input_positions)\n",
    "\n",
    "# Assert that the transformed positions match expected output\n",
    "jnp.array_equal(transformed_positions, expected_output)"
   ]
  },
  {
   "cell_type": "code",
   "execution_count": 80,
   "metadata": {},
   "outputs": [
    {
     "data": {
      "text/plain": [
       "Array([[[23, 23],\n",
       "        [ 0,  0],\n",
       "        [23, 11],\n",
       "        [ 0, 23]],\n",
       "\n",
       "       [[23,  0],\n",
       "        [ 0, 23],\n",
       "        [ 0, 11],\n",
       "        [23,  0]],\n",
       "\n",
       "       [[12, 12],\n",
       "        [11, 11],\n",
       "        [10, 10],\n",
       "        [ 9,  9]],\n",
       "\n",
       "       [[11, 23],\n",
       "        [11,  0],\n",
       "        [-1, 11],\n",
       "        [23, 11]]], dtype=int32)"
      ]
     },
     "execution_count": 80,
     "metadata": {},
     "output_type": "execute_result"
    }
   ],
   "source": [
    "transformed_positions"
   ]
  },
  {
   "cell_type": "code",
   "execution_count": null,
   "metadata": {},
   "outputs": [],
   "source": []
  }
 ],
 "metadata": {
  "kernelspec": {
   "display_name": ".conda",
   "language": "python",
   "name": "python3"
  },
  "language_info": {
   "codemirror_mode": {
    "name": "ipython",
    "version": 3
   },
   "file_extension": ".py",
   "mimetype": "text/x-python",
   "name": "python",
   "nbconvert_exporter": "python",
   "pygments_lexer": "ipython3",
   "version": "3.10.15"
  }
 },
 "nbformat": 4,
 "nbformat_minor": 2
}
